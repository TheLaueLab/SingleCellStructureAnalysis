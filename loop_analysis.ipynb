{
 "cells": [
  {
   "cell_type": "code",
   "execution_count": null,
   "metadata": {
    "collapsed": false
   },
   "outputs": [],
   "source": [
    "%load_ext autoreload\n",
    "%autoreload 2\n",
    "%matplotlib inline\n",
    "%load_ext line_profiler"
   ]
  },
  {
   "cell_type": "code",
   "execution_count": null,
   "metadata": {
    "collapsed": false
   },
   "outputs": [],
   "source": [
    "import numpy as np\n",
    "import pandas as pd\n",
    "import matplotlib.pyplot as plt\n",
    "from mpl_toolkits.axes_grid1 import make_axes_locatable\n",
    "import seaborn as sns\n",
    "import glob\n",
    "from tqdm import tqdm\n",
    "import os\n",
    "import h5py\n",
    "from pyliftover import LiftOver\n",
    "from collections import defaultdict\n",
    "\n",
    "from loop_helpers import read_loop_frame, monte_carlo, mk_sum, loop_monte_carlo\n",
    "\n",
    "from NucFrames import NucFrames\n",
    "\n",
    "np.random.seed(42)"
   ]
  },
  {
   "cell_type": "code",
   "execution_count": null,
   "metadata": {
    "collapsed": false,
    "scrolled": true
   },
   "outputs": [],
   "source": [
    "frame_files = glob.glob(\"/mnt/SSD/LayeredNuc/frames/*.hdf5\")\n",
    "cell_labels = [ \"Cell {}\".format(i + 1) for i, _ in enumerate(frame_files) ]\n",
    "nfs = NucFrames(frame_files)"
   ]
  },
  {
   "cell_type": "code",
   "execution_count": null,
   "metadata": {
    "collapsed": false
   },
   "outputs": [],
   "source": [
    "# Load the loops into a dataframe\n",
    "loop_file = \"/home/lpa24/dev/cam/data/rao_et_al_data/GSE63525_CH12-LX_HiCCUPS_looplist_with_motifs.txt\"\n",
    "df = read_loop_frame(loop_file)\n",
    "cis = df[df[\"chr1\"] == df[\"chr2\"]]\n",
    "trans = df[df[\"chr1\"] != df[\"chr2\"]]\n",
    "print(cis.shape)"
   ]
  },
  {
   "cell_type": "code",
   "execution_count": null,
   "metadata": {
    "collapsed": false
   },
   "outputs": [],
   "source": [
    "print(cis.shape)\n",
    "new_cis = []\n",
    "for chrm, df in cis.groupby('chr1'):\n",
    "    idx_a, _, valid_a = nfs.chrm_bp_to_idx(chrm, df[\"a\"].values.astype(np.int32))\n",
    "    idx_b, _, valid_b = nfs.chrm_bp_to_idx(chrm, df[\"b\"].values.astype(np.int32))\n",
    "    valid = np.logical_and(valid_a, valid_b)\n",
    "\n",
    "    idx_a = idx_a[valid]\n",
    "    idx_b = idx_b[valid]\n",
    "    \n",
    "    new_df = df[valid].copy()\n",
    "    \n",
    "    new_df[\"idx_a\"] = idx_a\n",
    "    new_df[\"idx_b\"] = idx_b\n",
    "    new_cis.append(new_df)\n",
    "cis = pd.concat(new_cis)\n",
    "print(cis.shape)\n",
    "    "
   ]
  },
  {
   "cell_type": "code",
   "execution_count": null,
   "metadata": {
    "collapsed": false,
    "scrolled": false
   },
   "outputs": [],
   "source": [
    "invalid = defaultdict(set)\n",
    "for nuc_file in nuc_files:\n",
    "    try:\n",
    "        idx_dict, track_dict = nf.track_to_idx(\"rt_viol\", nuc_file)\n",
    "    except KeyError:\n",
    "        pass\n",
    "    else:\n",
    "        for chrm, v in idx_dict.items():\n",
    "            invalid[chrm] |= set(v.flatten())\n",
    "        \n",
    "sphase = {}\n",
    "for chrm, vals in invalid.items():\n",
    "    vals = np.array(list(vals))\n",
    "    vals.sort()\n",
    "    sphase[chrm] = vals"
   ]
  },
  {
   "cell_type": "code",
   "execution_count": null,
   "metadata": {
    "collapsed": false,
    "scrolled": true
   },
   "outputs": [],
   "source": [
    "print(cis.shape)\n",
    "filtered_cis = []\n",
    "for c, f in cis.groupby([\"chr1\"]):\n",
    "    vals = sphase[c]\n",
    "    f = f[np.logical_and(~f[\"idx_a\"].isin(vals), ~f[\"idx_b\"].isin(vals))]\n",
    "    filtered_cis.append(f)\n",
    "filtered_cis = pd.concat(filtered_cis)\n",
    "print(filtered_cis.shape)"
   ]
  },
  {
   "cell_type": "code",
   "execution_count": null,
   "metadata": {
    "collapsed": false,
    "scrolled": true
   },
   "outputs": [],
   "source": [
    "filtered_cis = cis\n",
    "contact_percentile = 90\n",
    "\n",
    "samples = 500000\n",
    "\n",
    "truths = 0\n",
    "chrm_count = 0\n",
    "\n",
    "total = 0\n",
    "\n",
    "for (chrm, _), df in filtered_cis.groupby([\"chr1\", \"chr2\"]):\n",
    "    chrm_count += 1\n",
    "    print(\"Chromosome {}\".format(chrm))\n",
    "    dists_stack = []\n",
    "    for nf in nfs:\n",
    "        dist_arr = nf.chrms[chrm].dists\n",
    "        contact_dist = nf.chrms[chrm].contact_dists[contact_percentile]\n",
    "        dist_arr = dist_arr <= contact_dist\n",
    "        dists_stack.append(dist_arr)\n",
    "        \n",
    "    dists_stack = np.array(dists_stack)\n",
    "    dists_count = np.sum(dists_stack, axis=0)\n",
    "    \n",
    "    idx_a = df[\"idx_a\"]\n",
    "    idx_b = df[\"idx_b\"]\n",
    "    \n",
    "    loop_total = np.sum(dists_count[idx_a, idx_b])\n",
    "    \n",
    "    total += loop_total\n",
    "    \n",
    "    max_idx = dists_count.shape[0] - 1\n",
    "    test_loop_total = np.sum(dists_count[max_idx - idx_a, max_idx - idx_b])\n",
    "    print(test_loop_total)\n",
    "    #test_sum = mk_sum(dists_count, np.array([idx_a]), np.array([idx_b]))\n",
    "    \n",
    "    seps = np.abs(idx_a - idx_b)\n",
    "    #print(list(zip(zip(seps, idx_a), idx_b)))\n",
    "    #%lprun -m loop_helpers monte_carlo(dists_count, seps, loop_total, idx_a, idx_b, B=samples)\n",
    "    plt.title(\"Chromosome: {}\".format(chrm))\n",
    "    plt.axvline(test_loop_total, color='y')\n",
    "    (truth_count, p) = monte_carlo(dists_count, seps, loop_total, idx_a, idx_b, B=samples, plot=True)\n",
    "    truths += truth_count\n",
    "    \n",
    "print((1 + truths) / (1 + (samples * chrm_count)))\n",
    "print(total)"
   ]
  },
  {
   "cell_type": "code",
   "execution_count": null,
   "metadata": {
    "collapsed": false,
    "scrolled": true
   },
   "outputs": [],
   "source": [
    "contact_percentile = 90\n",
    "\n",
    "B = 10000\n",
    "ds = []\n",
    "for (chrm, _), df in filtered_cis.groupby([\"chr1\", \"chr2\"]):\n",
    "    idx_a = df[\"idx_a\"]\n",
    "    idx_b = df[\"idx_b\"]\n",
    "    \n",
    "    d = df.copy()\n",
    "    \n",
    "    idx_a = d[\"idx_a\"] = idx_a\n",
    "    idx_b = d[\"idx_b\"] = idx_b\n",
    "    d[\"idx_sep\"] = d[\"idx_b\"] - d[\"idx_a\"]\n",
    "    #d = d[d[\"idx_sep\"] >= 6]\n",
    "    \n",
    "    contact_arr_stack = []\n",
    "    for label, nf in zip(cell_labels, nfs):\n",
    "        dist_arr = nf.chrm[chrm].dists\n",
    "        contact_dist = nf.chrm[chrm].contact_dists[contact_percentile]\n",
    "        contact_arr = dist_arr <= contact_dist\n",
    "        contact_arr_stack.append(contact_arr)\n",
    "        d[label] = contact_arr[d[\"idx_a\"], d[\"idx_b\"]]\n",
    "        \n",
    "    sum_pseudo_contact_mat = np.sum(np.array(contact_arr_stack), axis=0)\n",
    "        \n",
    "    p_vals = []\n",
    "    for _, row in d.iterrows():\n",
    "        p = loop_monte_carlo(row.idx_a, row.idx_b, sum_pseudo_contact_mat, B=B)\n",
    "        p_vals.append(p)\n",
    "        \n",
    "    p_vals = np.array(p_vals)\n",
    "    d[\"loop_p_val\"] = p_vals\n",
    "    ds.append(d.copy())\n",
    "    \n",
    "    # Calculate cellwise pvalues\n",
    "    seps = np.abs(idx_a - idx_b)\n",
    "    cell_pval_dicts = []\n",
    "    for nf in nfs:\n",
    "        dist_arr = nf.chrms[chrm].dists\n",
    "        contact_dist = nf.chrms[chrm].contact_dists[contact_percentile]\n",
    "        contact_arr = dist_arr <= contact_dist\n",
    "        \n",
    "        cell_loop_total = np.sum(contact_arr[idx_a, idx_b])\n",
    "        cell_truth_count, cell_pval = monte_carlo(contact_arr, seps, cell_loop_total, idx_a, idx_b, B=B)\n",
    "        cell_pval_dicts.append({ \"cell\": name, \"pval\": cell_pval })\n",
    "    cell_pval = pd.DataFrame(cell_pval_dicts)\n",
    "        \n",
    "    d = d.sort_values(by=\"loop_p_val\", axis=0)\n",
    "    \n",
    "    fig = plt.figure(figsize=(25,5))\n",
    "    fig.suptitle(\"Chromosome {}\".format(chrm))\n",
    "    ax = fig.add_subplot(1,1,1)\n",
    "    ax.tick_params(labelsize=8, axis=\"x\")\n",
    "    ax.tick_params(labelsize=15, axis=\"y\")\n",
    "\n",
    "    \n",
    "    main = sns.heatmap(d.ix[:, 7:15].T, ax=ax, cbar=False, xticklabels=d.idx_sep.values)\n",
    "    #main.yaxis.set_yticks(rotation=0)\n",
    "    for l in main.yaxis.get_ticklabels():\n",
    "        l.set_rotation(0)\n",
    "    divider = make_axes_locatable(ax)\n",
    "    \n",
    "    loop_pval_ax = divider.append_axes(\"top\", size=\"20%\")\n",
    "    #loop_pval_ax.plot(np.arange(d.shape[0]), d.loop_p_val.values)\n",
    "    #sns.barplot(np.arange(d.shape[0]), d.loop_p_val.values, ax=loop_pval_ax, color=\"b\", linewidth=0)\n",
    "    loop_pval_ax.bar(np.arange(d.shape[0]), d.loop_p_val.values, width=1)\n",
    "    loop_pval_ax.set_xlim(0, d.shape[0])\n",
    "    #pval_ax.get_yaxis().set_visible(False)\n",
    "    loop_pval_ax.get_xaxis().set_ticks([])\n",
    "    loop_pval_ax.get_yaxis().set_ticks([0, 0.5, 1.0])\n",
    "    \n",
    "    \"\"\"\n",
    "    cell_pval_ax = divider.append_axes(\"right\", size=\"10%\")\n",
    "    cell_pval_ax.barh(np.arange(cell_pval.shape[0]), \n",
    "                     cell_pval.pval.values, \n",
    "                     height=1)\n",
    "    cell_pval_ax.set_xlim(0, 1.0)\n",
    "    cell_pval_ax.get_yaxis().set_visible(False)\n",
    "    cell_pval_ax.xaxis.tick_top()\n",
    "    for label in cell_pval_ax.xaxis.get_ticklabels():\n",
    "        label.set_rotation(-90)\n",
    " \n",
    "    \"\"\"\n",
    "    plt.savefig(\"/home/lpa24/dev/cam/data/figures/extended_data_fig_7/chrm_{}_loop_pval.svg\".format(chrm))"
   ]
  },
  {
   "cell_type": "code",
   "execution_count": null,
   "metadata": {
    "collapsed": false
   },
   "outputs": [],
   "source": [
    "d = pd.concat(ds)\n",
    "print(d.columns)\n",
    "d.to_csv(\"/home/lpa24/dev/cam/data/figures/loop_pseudocontact_analysis.csv\")"
   ]
  },
  {
   "cell_type": "code",
   "execution_count": null,
   "metadata": {
    "collapsed": false,
    "scrolled": true
   },
   "outputs": [],
   "source": [
    "# Main figure\n",
    "contact_percentile = 90\n",
    "d = filtered_cis.copy()\n",
    "\n",
    "d[\"idx_sep\"] = d[\"idx_b\"] - d[\"idx_a\"]\n",
    "\n",
    "d = d[d.idx_sep >= 7]\n",
    "\n",
    "\n",
    "new_dfs = []\n",
    "for (chrm, _), f in d.groupby([\"chr1\", \"chr2\"]):\n",
    "    contact_arr_stack = []\n",
    "    \n",
    "    new_f = f.copy()\n",
    "    for label, name in zip(cell_labels, nf.nuc_names):\n",
    "        dist_arr = nf.dists[name, chrm, chrm]\n",
    "        contact_dist = nf.contact_dists[name][contact_percentile]\n",
    "        contact_arr = dist_arr <= contact_dist\n",
    "        contact_arr_stack.append(contact_arr)\n",
    "        new_f[label] = contact_arr[f[\"idx_a\"], f[\"idx_b\"]]\n",
    "    new_dfs.append(new_f)\n",
    "d = pd.concat(new_dfs)\n",
    "\n",
    "names = d.apply(lambda row: \"chr{}, ({:.1f}-{:.1f})Mb\".format(row[\"chr1\"], row[\"a\"] / 1e6, row[\"b\"] / 1e6), axis=1)\n",
    "d[\"names\"] = names\n",
    "\n",
    "p_vals = []\n",
    "for _, row in d.iterrows():\n",
    "    chrm = row[\"chr1\"]\n",
    "    contact_arr_stack = []\n",
    "    for label, name in zip(cell_labels, nf.nuc_names):\n",
    "        dist_arr = nf.dists[name, chrm, chrm]\n",
    "        contact_dist = nf.contact_dists[name][contact_percentile]\n",
    "        contact_arr = dist_arr <= contact_dist\n",
    "        contact_arr_stack.append(contact_arr)\n",
    "        \n",
    "    sum_pseudo_contact_mat = np.sum(np.array(contact_arr_stack), axis=0)\n",
    "    p = loop_monte_carlo(row.idx_a, row.idx_b, sum_pseudo_contact_mat, B=B)\n",
    "    p_vals.append(p)\n",
    "\n",
    "p_vals = np.array(p_vals)\n",
    "d[\"loop_p_val\"] = p_vals\n",
    "\n",
    "fig = plt.figure(figsize=(15,5))\n",
    "#fig.suptitle(\"Chromosome {}\".format(chrm))\n",
    "ax = fig.add_subplot(1,1,1)\n",
    "ax.tick_params(labelsize=8, axis=\"x\")\n",
    "ax.tick_params(labelsize=15, axis=\"y\")\n",
    "m = d.ix[:, 7:15].T\n",
    "\n",
    "#CALC NUMBER OF LOOPS THAT NEVER CONTACT\n",
    "print(np.sum(m.sum(axis=0) == 0))\n",
    "\n",
    "print(m.shape)\n",
    "\n",
    "order = np.argsort(np.sum(m.values, axis=0))\n",
    "names = d.names.values[order]\n",
    "order = m.sum(axis=0).sort_values().index\n",
    "\n",
    "main = sns.heatmap(m[order], ax=ax, cbar=False, xticklabels=names)\n",
    "\n",
    "names_order_lookup = { name: i for i, name in enumerate(names) }\n",
    "d[\"name_sort\"] = d.apply(lambda x: names_order_lookup[x[\"names\"]], axis=1)\n",
    "d=d.sort_values([\"name_sort\"])\n",
    "\n",
    "divider = make_axes_locatable(ax)\n",
    "loop_pval_ax = divider.append_axes(\"top\", size=\"20%\")\n",
    "#loop_pval_ax.plot(np.arange(d.shape[0]), d.loop_p_val.values)\n",
    "#sns.barplot(np.arange(d.shape[0]), d.loop_p_val.values, ax=loop_pval_ax, color=\"b\", linewidth=0)\n",
    "loop_pval_ax.bar(np.arange(d.shape[0]), d.loop_p_val.values, width=1)\n",
    "loop_pval_ax.set_xlim(0, d.shape[0])\n",
    "#pval_ax.get_yaxis().set_visible(False)\n",
    "loop_pval_ax.get_xaxis().set_ticks([])\n",
    "loop_pval_ax.get_yaxis().set_ticks([0, 0.5, 1.0])\n",
    "\n",
    "\n",
    "plt.tight_layout()\n",
    "plt.savefig(\"/home/lpa24/dev/cam/data/figures/fig5_e.svg\")\n"
   ]
  },
  {
   "cell_type": "code",
   "execution_count": null,
   "metadata": {
    "collapsed": false,
    "scrolled": true
   },
   "outputs": [],
   "source": [
    "filtered_cis[\"sep\"] = filtered_cis[\"idx_b\"] - filtered_cis[\"idx_a\"]\n",
    "print(filtered_cis[filtered_cis[\"chr1\"] == \"14\"].sort_values([\"sep\"]))"
   ]
  },
  {
   "cell_type": "code",
   "execution_count": null,
   "metadata": {
    "collapsed": false,
    "scrolled": true
   },
   "outputs": [],
   "source": [
    "def cumulative_plot(loops, nf, chrm, a, b):\n",
    "    loop = loops[np.logical_and(np.logical_and(loops[\"chr1\"] == chrm,\n",
    "                         loops[\"a\"] == a), loops[\"b\"]==b)]\n",
    "    \n",
    "    idx_a = loop.idx_a.values[0]\n",
    "    idx_b = loop.idx_b.values[0]\n",
    "    sep = idx_b - idx_a\n",
    "    idx_c = idx_b + sep\n",
    "    \n",
    "    dists = []\n",
    "    controls = []\n",
    "    for nf in nfs:\n",
    "        dist_arr = nf.chrms[chrm].dists\n",
    "        dist = dist_arr[idx_a, idx_b]\n",
    "        control_dist = dist_arr[idx_b, idx_c]\n",
    "        controls.append(control_dist)\n",
    "        dists.append(dist)\n",
    "    vals, base = np.histogram(dists)\n",
    "    cumulative = np.cumsum(vals)\n",
    "    plt.plot(base[:-1], cumulative, c='blue', label=\"loop\")\n",
    "    \n",
    "    vals, base = np.histogram(controls)\n",
    "    cumulative = np.cumsum(vals)\n",
    "    plt.plot(base[:-1], cumulative, c='red', label=\"control\")\n",
    "    plt.legend()\n",
    "    \n",
    "for _, loop in filtered_cis[filtered_cis[\"sep\"] <= 10].sort_values([\"sep\"], ascending=False).iterrows():\n",
    "    a = loop[\"a\"]\n",
    "    b = loop[\"b\"]\n",
    "    try:\n",
    "        cumulative_plot(filtered_cis, nf, loop[\"chr1\"], a, b)\n",
    "        plt.title(\"Chrm {}, {} - {}, {} sep\".format(\"14\", a, b, loop[\"sep\"]))\n",
    "        plt.show()\n",
    "    except IndexError:\n",
    "        pass"
   ]
  },
  {
   "cell_type": "code",
   "execution_count": null,
   "metadata": {
    "collapsed": true
   },
   "outputs": [],
   "source": [
    "    d.columns"
   ]
  },
  {
   "cell_type": "code",
   "execution_count": null,
   "metadata": {
    "collapsed": false
   },
   "outputs": [],
   "source": [
    "nf.nuc_names\n",
    "list(nf.store[\"nuc_names\"])"
   ]
  },
  {
   "cell_type": "code",
   "execution_count": null,
   "metadata": {
    "collapsed": true
   },
   "outputs": [],
   "source": []
  }
 ],
 "metadata": {
  "kernelspec": {
   "display_name": "Python 3",
   "language": "python",
   "name": "python3"
  },
  "language_info": {
   "codemirror_mode": {
    "name": "ipython",
    "version": 3
   },
   "file_extension": ".py",
   "mimetype": "text/x-python",
   "name": "python",
   "nbconvert_exporter": "python",
   "pygments_lexer": "ipython3",
   "version": "3.5.2"
  }
 },
 "nbformat": 4,
 "nbformat_minor": 0
}
